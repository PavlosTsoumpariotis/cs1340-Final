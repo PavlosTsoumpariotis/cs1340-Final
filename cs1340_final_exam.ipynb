{
 "cells": [
  {
   "cell_type": "markdown",
   "metadata": {},
   "source": [
    "### Note: You can use any packages, functions, unless explicitly specified"
   ]
  },
  {
   "cell_type": "code",
   "execution_count": 353,
   "metadata": {},
   "outputs": [],
   "source": [
    "import numpy as np\n",
    "import pandas as pd\n",
    "import matplotlib.pyplot as plt\n",
    "from sklearn.model_selection import train_test_split \n",
    "from sklearn.metrics import mean_squared_error\n",
    "from sklearn.linear_model import LinearRegression\n",
    "from sklearn import metrics\n",
    "import matplotlib.ticker as ticker\n",
    "\n",
    "%matplotlib inline"
   ]
  },
  {
   "cell_type": "code",
   "execution_count": 354,
   "metadata": {},
   "outputs": [],
   "source": [
    "# Q1.  Given a list of numbers (no duplicates). Implement the following function to \n",
    "# return a list, in which odd numbers come first before even numbers. \n",
    "# For example, if nums = [2, 1, 3, 6, 9, 4, 12], \n",
    "# the function should return [1, 3, 9, 2, 6, 4, 12]\n",
    "# Do not change the relative order within odd and even numbers (10 points)"
   ]
  },
  {
   "cell_type": "code",
   "execution_count": 355,
   "metadata": {},
   "outputs": [
    {
     "name": "stdout",
     "output_type": "stream",
     "text": [
      "[1, 3, 9, 2, 4, 6, 12]\n"
     ]
    }
   ],
   "source": [
    "def odd_before_even(nums):\n",
    "    odd  = [n for n in nums if n % 2 != 0]\n",
    "    even = [n for n in nums if n % 2 == 0]\n",
    "    return sorted(odd) + sorted(even)\n",
    "\n",
    "print(odd_before_even([2, 1, 3, 6, 9, 4, 12]))"
   ]
  },
  {
   "cell_type": "code",
   "execution_count": 356,
   "metadata": {},
   "outputs": [],
   "source": [
    "# Q2. Implment the same functionality as Q1, but you can not create a temporary list, \n",
    "# dictionay, tuple or any other collection data type this time.  \n",
    "# You can ignore the relative order this time, as long as\n",
    "# the odd numbers come first before even number. Which means\n",
    "# [1, 3, 9, 2, 6, 4, 12], [1, 3, 9, 6, 2, 4, 12] are both correct. (10 points)"
   ]
  },
  {
   "cell_type": "code",
   "execution_count": 357,
   "metadata": {},
   "outputs": [
    {
     "name": "stdout",
     "output_type": "stream",
     "text": [
      "[1, 3, 9, 2, 4, 6, 12]\n"
     ]
    }
   ],
   "source": [
    "def odd_before_even_inplace(nums):\n",
    "    return sorted(nums, key=lambda v: (v%2==0, v))\n",
    "print(odd_before_even_inplace([2, 1, 3, 6, 9, 4, 12]))"
   ]
  },
  {
   "cell_type": "code",
   "execution_count": 358,
   "metadata": {},
   "outputs": [],
   "source": [
    "# Q3 Given a string (could be a multiple line string)\n",
    "# Count the number of each word and return a dictionary\n",
    "# For example\n",
    "# a_sentence = \"\"\"\n",
    "# Python is great, you just need more practice!\n",
    "# Have fun is also important\n",
    "# \"\"\"\n",
    "# should return \n",
    "#{'Python': 1, 'is': 2, 'great': 1, 'you': 1, 'just': 1, 'need': 1, 'more': 1, \n",
    "#'practice': 1, 'Have': 1, 'fun': 1, 'also': 1, 'important': 1}\n",
    "\n",
    "# Hint, you can use the re package to handle special characters (20 points)"
   ]
  },
  {
   "cell_type": "code",
   "execution_count": 359,
   "metadata": {},
   "outputs": [
    {
     "name": "stdout",
     "output_type": "stream",
     "text": [
      "{'python': 1, 'is': 2, 'great': 1, 'you': 1, 'just': 1, 'need': 1, 'more': 1, 'practice': 1, 'have': 1, 'fun': 1, 'also': 1, 'important': 1}\n"
     ]
    }
   ],
   "source": [
    "import re\n",
    "def get_freq(a_sentence):\n",
    "    myDict = {}\n",
    "    mySentence = a_sentence.lower().split()\n",
    "    mySentence1 = [re.sub('[^a-zA-Z0-9]+', '', _) for _ in mySentence] \n",
    "    for word in mySentence1:\n",
    "        if word in myDict:\n",
    "            myDict[word] += 1\n",
    "        else:\n",
    "           myDict[word] = 1\n",
    "    return myDict\n",
    "\n",
    "print( get_freq(\"\"\"\n",
    " !Python is great, you just need more practice!\n",
    " Have fun is also important\n",
    " \"\"\"))"
   ]
  },
  {
   "cell_type": "code",
   "execution_count": 360,
   "metadata": {},
   "outputs": [],
   "source": [
    "# Q4 Create a class Flower having the following properties\n",
    "# - petal_width\n",
    "# - petal_length\n",
    "# - sepal_width\n",
    "# - sepal_length\n",
    "# and the following methods:\n",
    "# get_information() - return the information of the four properties\n",
    "# set_properties(petal_width, petal_length, sepal_width, sepal_length)  \n",
    "#    - allow you to update the values of four properties at once\n",
    "# \n",
    "# Create a subclass named Iris that inherits from Flower class\n",
    "# Add a new property height\n",
    "# Add a new method get_height()\n",
    "# Override the method get_information inherited from Flower to get information about the 5 \n",
    "# properties. (20 points)"
   ]
  },
  {
   "cell_type": "code",
   "execution_count": 361,
   "metadata": {},
   "outputs": [
    {
     "name": "stdout",
     "output_type": "stream",
     "text": [
      "(10, 21, 69, 2)\n",
      "(67, 2, 8, 15)\n",
      "(2, 4, 6, 8, 10)\n",
      "10\n"
     ]
    }
   ],
   "source": [
    "class Flower():\n",
    "\n",
    "    def __init__(self, petal_width, petal_length, sepal_width, sepal_length):\n",
    "        self.petal_width = petal_width\n",
    "        self.petal_length = petal_length\n",
    "        self.sepal_width = sepal_width\n",
    "        self.sepal_length = sepal_length\n",
    "\n",
    "    def get_information(self):\n",
    "        return self.petal_width, self.petal_length, self.sepal_width, self.sepal_length\n",
    "    \n",
    "    def set_properties(self, new_petal_width, new_petal_length, new_sepal_width, new_sepal_length):\n",
    "        self.petal_width = new_petal_width\n",
    "        self.petal_length = new_petal_length\n",
    "        self.sepal_width = new_sepal_width\n",
    "        self.sepal_length = new_sepal_length\n",
    "    \n",
    "class Iris(Flower):\n",
    "    def __init__(self, petal_width, petal_length, sepal_width, sepal_length, height):\n",
    "        super().__init__(petal_width, petal_length, sepal_width, sepal_length)\n",
    "        self.height = height\n",
    "\n",
    "    def get_height(self):\n",
    "        return self.height\n",
    "    \n",
    "    def get_information(self):\n",
    "        return self.petal_width, self.petal_length, self.sepal_width, self.sepal_length, self.height\n",
    "              \n",
    "flower = Flower(10, 21, 69, 2)\n",
    "print(flower.get_information())\n",
    "flower.set_properties(67, 2, 8, 15)\n",
    "print(flower.get_information())\n",
    "iris = Iris(2,4,6,8,10)\n",
    "print(iris.get_information())\n",
    "print(iris.get_height())"
   ]
  },
  {
   "cell_type": "code",
   "execution_count": 362,
   "metadata": {},
   "outputs": [],
   "source": [
    "# Q5, 5.1 Create a dataframe from hospital_beds_global_regional.csv (5 points)\n",
    "\n",
    "# The column names are explained below\n",
    "# country : ISO 3166 county code (alpha 2)\n",
    "# state : ISO 3166 state code (alpha 2)\n",
    "# county : County/Region name\n",
    "# lat: Latitude\n",
    "# lng: Longitude\n",
    "# type: Type of beds: [TOTAL, ICU, ACUTE, PSYCHIATRIC, OTHER]\n",
    "# measure: Type of measure: 1000HAB - per 1000 inhabitants\n",
    "# beds: Number of beds per 1000 inhabitants\n",
    "# population: Population of location\n",
    "# year: source year for beds and population\n",
    "# source: source of data\n",
    "# source_url: URL of the original source\n",
    "\n",
    "# 5.2 Fill in the missing state and county name with country name (5 points)\n",
    "# 5.3 Get the data for 'country' == 'US' and type == 'ICU', plot the relationship between\n",
    "# population and number of beds (For example, x-axis is the population, y-axis is the number \n",
    "# of beds) (10 points)\n"
   ]
  },
  {
   "cell_type": "code",
   "execution_count": 379,
   "metadata": {},
   "outputs": [
    {
     "name": "stdout",
     "output_type": "stream",
     "text": [
      "  country state county    lat   lng   type  measure  number of beds  \\\n",
      "0      AD    AD     AD  42.50   1.5    ICU  1000HAB           0.071   \n",
      "1      AD    AD     AD  42.50   1.5  TOTAL  1000HAB           2.500   \n",
      "2      AE    AE     AE  24.00  54.0  TOTAL  1000HAB           1.200   \n",
      "3      AF    AF     AF  33.00  65.0  TOTAL  1000HAB           0.500   \n",
      "4      AG    AG     AG  17.05 -61.8  TOTAL  1000HAB           3.800   \n",
      "\n",
      "   population  year       source  \\\n",
      "0       83747  2011  icm-journal   \n",
      "1       84463  2009          wdi   \n",
      "2     9197910  2013          wdi   \n",
      "3    34413603  2015          wdi   \n",
      "4       92562  2014          wdi   \n",
      "\n",
      "                                          source_url  \n",
      "0  https://link.springer.com/article/10.1007/s001...  \n",
      "1  https://data.worldbank.org/indicator/SH.MED.BE...  \n",
      "2  https://data.worldbank.org/indicator/SH.MED.BE...  \n",
      "3  https://data.worldbank.org/indicator/SH.MED.BE...  \n",
      "4  https://data.worldbank.org/indicator/SH.MED.BE...  \n",
      "\n",
      "  country state          county        lat         lng type  measure  \\\n",
      "0      US    AK  aleutians east  63.588753 -154.493062  ICU  1000HAB   \n",
      "1      US    AK  aleutians west  63.588753 -154.493062  ICU  1000HAB   \n",
      "2      US    AK       anchorage  63.588753 -154.493062  ICU  1000HAB   \n",
      "3      US    AK          bethel  63.588753 -154.493062  ICU  1000HAB   \n",
      "4      US    AK     bristol bay  63.588753 -154.493062  ICU  1000HAB   \n",
      "\n",
      "   number of beds  population  year  source  \\\n",
      "0        0.000000        3338  2019     khn   \n",
      "1        0.000000        5784  2019     khn   \n",
      "2        0.244782      298225  2019     khn   \n",
      "3        2.060478       17957  2018  arcgis   \n",
      "4        0.000000         917  2019     khn   \n",
      "\n",
      "                                          source_url  \n",
      "0  https://khn.org/news/as-coronavirus-spreads-wi...  \n",
      "1  https://khn.org/news/as-coronavirus-spreads-wi...  \n",
      "2  https://khn.org/news/as-coronavirus-spreads-wi...  \n",
      "3  https://services1.arcgis.com/Hp6G80Pky0om7QvQ/...  \n",
      "4  https://khn.org/news/as-coronavirus-spreads-wi...  \n"
     ]
    },
    {
     "data": {
      "image/png": "[encoded data removed]",
      "text/plain": [
       "<Figure size 900x612 with 1 Axes>"
      ]
     },
     "metadata": {
      "needs_background": "light"
     },
     "output_type": "display_data"
    }
   ],
   "source": [
    "corona = pd.read_csv('hospital_beds_global_regional.csv')\n",
    "df = pd.DataFrame(corona)\n",
    "df.columns = ['country', 'state', 'county', 'lat', 'lng', 'type', 'measure', 'number of beds', 'population', 'year', 'source', 'source_url']\n",
    "df.loc[df['state'].isnull(),'state'] = df['country']\n",
    "df.loc[df['county'].isnull(),'county'] = df['country']\n",
    "print(df.head()) #loads dataframe from csv file\n",
    "print()\n",
    "\n",
    "covid_data_US_ICU = (df.query('country == \"US\"').query('type == \"ICU\"').reset_index(drop = True))\n",
    "#creates new dataframe that shows information for country = US and bed type = ICU\n",
    "print(covid_data_US_ICU.head()) \n",
    "\n",
    "filtered_data = covid_data_US_ICU.filter(['country','state', 'county', 'population', 'number of beds']).drop(3142)\n",
    "#I dropped the last row because the last row is the total US population and total number of ICUS the US has.\n",
    "filtered_data = filtered_data.sort_values(['population'])\n",
    "total_population_per_state = filtered_data.groupby(['state']).population.sum()\n",
    "total_icus_per_state = filtered_data.groupby(['state'])['number of beds'].sum()\n",
    "\n",
    "a = total_population_per_state.values\n",
    "#a = total population per state\n",
    "b = total_icus_per_state.values\n",
    "#b = total number of ICU beds per state\n",
    "\n",
    "fig, ax = plt.subplots()\n",
    "fig.set_size_inches(12.5, 8.5)\n",
    "plt.scatter(a,b, s=10)\n",
    "plt.xlabel('population x 10^7')\n",
    "plt.ylabel('number of ICUs per 1000 inhabitants')\n",
    "fig.suptitle('Number of ICUS per State Population', fontsize=12)\n",
    "plt.show() #plots relationship between population and number of beds"
   ]
  },
  {
   "cell_type": "code",
   "execution_count": 364,
   "metadata": {},
   "outputs": [],
   "source": [
    "# Q6, Extract the data for 'country' == 'US' and type == 'ICU'. Uses three features \n",
    "# lat, lng and population to predict the beds. \n",
    "# You are free to pick your model. Use 80% for training and 20% for testing\n",
    "# -- formulation of the correct feature matrix and target vector,  5 points\n",
    "# -- the approporiate pick of a model, 5 points\n",
    "# -- correct trainning and prediction, 5 points\n",
    "# -- correct compararison of the predictions with actual values , 5 points"
   ]
  },
  {
   "cell_type": "code",
   "execution_count": 365,
   "metadata": {},
   "outputs": [
    {
     "name": "stdout",
     "output_type": "stream",
     "text": [
      "input values:\n",
      "            lat         lng  population\n",
      "3124  43.075968 -107.290284        7347\n",
      "1572  32.354668  -89.398528       39763\n",
      "742   40.633125  -89.398528      704476\n",
      "2540  31.968599  -99.901813       17955\n",
      "2064  40.417287  -82.907123       75369\n",
      "2824  37.431573  -78.656894       55158\n",
      "34    32.318231  -86.902298       10478\n",
      "527   32.157435  -82.907123       69433\n",
      "1961  34.972730 -105.032363       15534\n",
      "27    63.588753 -154.493062         682\n",
      "1077  37.839333  -84.270018        9990\n",
      "1985  43.299428  -74.217933       78175\n",
      "822   40.551217  -85.602364       67615\n",
      "2356  33.836081  -81.163725       20228\n",
      "357   27.664827  -81.515754        8347\n",
      "1884  41.492537  -99.901813       20953\n",
      "846   40.551217  -85.602364       10219\n",
      "1001  37.839333  -84.270018       20017\n",
      "572   41.878003  -93.097702       17711\n",
      "1160  31.244823  -92.145024       43565\n",
      "\n",
      "y values:\n",
      "[2.17776  0.704172 0.153305 1.39237  0.238825 0.       0.       0.288047\n",
      " 0.       0.       0.       0.       0.281003 0.       0.       0.763614\n",
      " 0.       0.19983  2.823104 0.      ]\n",
      "\n",
      "predicted values:\n",
      "[1.51882687 0.51023553 0.97790149 0.72291314 0.82311294 0.55870044\n",
      " 0.45254121 0.35397543 1.00811484 3.73794789 0.70736726 0.79279139\n",
      " 0.89093064 0.41058404 0.06796217 1.26386212 0.89115092 0.70732878\n",
      " 1.13384343 0.5085068 ]\n",
      "\n",
      "Slope: [ 5.68000845e-02 -2.23285062e-02 -3.83789879e-09]\n",
      "Intercept: -3.3234953224267554\n",
      "Mean Squared Error: 1.1769697412591735\n"
     ]
    }
   ],
   "source": [
    "y = covid_data_US_ICU['number of beds']\n",
    "x = covid_data_US_ICU.loc[:,('lat', 'lng', 'population')]\n",
    "x_train, x_test, y_train, y_test = train_test_split(x, y, test_size=20) #establishes feature matrix and and target vector\n",
    "\n",
    "lin_regression = LinearRegression()\n",
    "RegressionModel = lin_regression.fit(x_train, y_train) #fit model\n",
    "y_predRegression = RegressionModel.predict(x_test) #prediction using x_test values\n",
    "\n",
    "print('input values:',)\n",
    "print(x_test)\n",
    "print()\n",
    "print('y values:')\n",
    "print(y_test.values)\n",
    "print()\n",
    "print('predicted values:')\n",
    "print(y_predRegression)\n",
    "print()\n",
    "\n",
    "MSE = mean_squared_error(y_test, y_predRegression)\n",
    "print('Slope:', RegressionModel.coef_)\n",
    "print('Intercept:', RegressionModel.intercept_)\n",
    "print('Mean Squared Error:', MSE)\n",
    "\n"
   ]
  },
  {
   "cell_type": "code",
   "execution_count": null,
   "metadata": {},
   "outputs": [],
   "source": []
  },
  {
   "cell_type": "code",
   "execution_count": null,
   "metadata": {},
   "outputs": [],
   "source": []
  }
 ],
 "metadata": {
  "kernelspec": {
   "display_name": "Python 3",
   "language": "python",
   "name": "python3"
  },
  "language_info": {
   "codemirror_mode": {
    "name": "ipython",
    "version": 3
   },
   "file_extension": ".py",
   "mimetype": "text/x-python",
   "name": "python",
   "nbconvert_exporter": "python",
   "pygments_lexer": "ipython3",
   "version": "3.7.4"
  }
 },
 "nbformat": 4,
 "nbformat_minor": 2
}
